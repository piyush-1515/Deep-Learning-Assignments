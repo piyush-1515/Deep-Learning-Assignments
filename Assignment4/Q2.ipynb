{
 "cells": [
  {
   "cell_type": "code",
   "execution_count": 1,
   "metadata": {},
   "outputs": [
    {
     "name": "stderr",
     "output_type": "stream",
     "text": [
      "2023-04-09 21:28:04.184185: I tensorflow/core/platform/cpu_feature_guard.cc:193] This TensorFlow binary is optimized with oneAPI Deep Neural Network Library (oneDNN) to use the following CPU instructions in performance-critical operations:  AVX2 AVX512F AVX512_VNNI FMA\n",
      "To enable them in other operations, rebuild TensorFlow with the appropriate compiler flags.\n",
      "2023-04-09 21:28:05.202159: I tensorflow/core/util/port.cc:104] oneDNN custom operations are on. You may see slightly different numerical results due to floating-point round-off errors from different computation orders. To turn them off, set the environment variable `TF_ENABLE_ONEDNN_OPTS=0`.\n",
      "2023-04-09 21:28:05.295897: W tensorflow/compiler/xla/stream_executor/platform/default/dso_loader.cc:64] Could not load dynamic library 'libcudart.so.11.0'; dlerror: libcudart.so.11.0: cannot open shared object file: No such file or directory; LD_LIBRARY_PATH: /home/piyush/.local/lib/python3.10/site-packages/cv2/../../lib64:\n",
      "2023-04-09 21:28:05.295936: I tensorflow/compiler/xla/stream_executor/cuda/cudart_stub.cc:29] Ignore above cudart dlerror if you do not have a GPU set up on your machine.\n",
      "2023-04-09 21:28:06.166717: W tensorflow/compiler/xla/stream_executor/platform/default/dso_loader.cc:64] Could not load dynamic library 'libnvinfer.so.7'; dlerror: libnvinfer.so.7: cannot open shared object file: No such file or directory; LD_LIBRARY_PATH: /home/piyush/.local/lib/python3.10/site-packages/cv2/../../lib64:\n",
      "2023-04-09 21:28:06.166788: W tensorflow/compiler/xla/stream_executor/platform/default/dso_loader.cc:64] Could not load dynamic library 'libnvinfer_plugin.so.7'; dlerror: libnvinfer_plugin.so.7: cannot open shared object file: No such file or directory; LD_LIBRARY_PATH: /home/piyush/.local/lib/python3.10/site-packages/cv2/../../lib64:\n",
      "2023-04-09 21:28:06.166793: W tensorflow/compiler/tf2tensorrt/utils/py_utils.cc:38] TF-TRT Warning: Cannot dlopen some TensorRT libraries. If you would like to use Nvidia GPU with TensorRT, please make sure the missing libraries mentioned above are installed properly.\n"
     ]
    }
   ],
   "source": [
    "import numpy as np\n",
    "import pandas as pd\n",
    "import matplotlib.pyplot as plt\n",
    "import cv2\n",
    "import tensorflow as tf\n",
    "from tensorflow import keras\n",
    "from keras import layers, Sequential\n",
    "from keras.models import Model\n",
    "from keras.layers import Input, Dense\n",
    "from keras.optimizers import Adam, SGD, Adagrad, RMSprop\n",
    "from keras.callbacks import EarlyStopping, ModelCheckpoint, TensorBoard\n",
    "from keras import initializers\n",
    "from keras.optimizers import Adam\n",
    "import os\n",
    "from tensorflow.keras.preprocessing import image_dataset_from_directory\n",
    "tf.compat.v1.logging.set_verbosity(tf.compat.v1.logging.ERROR)\n",
    "import matplotlib.pyplot as plt"
   ]
  },
  {
   "attachments": {},
   "cell_type": "markdown",
   "metadata": {},
   "source": [
    "#### Reading the data, normalizing and flattening it"
   ]
  },
  {
   "attachments": {},
   "cell_type": "markdown",
   "metadata": {},
   "source": [
    "##### Reading and Normalizing"
   ]
  },
  {
   "cell_type": "code",
   "execution_count": 2,
   "metadata": {},
   "outputs": [
    {
     "name": "stdout",
     "output_type": "stream",
     "text": [
      "Found 11385 files belonging to 5 classes.\n"
     ]
    },
    {
     "name": "stderr",
     "output_type": "stream",
     "text": [
      "2023-04-09 21:28:07.820477: W tensorflow/compiler/xla/stream_executor/platform/default/dso_loader.cc:64] Could not load dynamic library 'libcuda.so.1'; dlerror: libcuda.so.1: cannot open shared object file: No such file or directory; LD_LIBRARY_PATH: /home/piyush/.local/lib/python3.10/site-packages/cv2/../../lib64:\n",
      "2023-04-09 21:28:07.820498: W tensorflow/compiler/xla/stream_executor/cuda/cuda_driver.cc:265] failed call to cuInit: UNKNOWN ERROR (303)\n",
      "2023-04-09 21:28:07.820510: I tensorflow/compiler/xla/stream_executor/cuda/cuda_diagnostics.cc:156] kernel driver does not appear to be running on this host (piyush-HP-Spectre-x360-Convertible-13-aw2xxx): /proc/driver/nvidia/version does not exist\n",
      "2023-04-09 21:28:07.820719: I tensorflow/core/platform/cpu_feature_guard.cc:193] This TensorFlow binary is optimized with oneAPI Deep Neural Network Library (oneDNN) to use the following CPU instructions in performance-critical operations:  AVX2 AVX512F AVX512_VNNI FMA\n",
      "To enable them in other operations, rebuild TensorFlow with the appropriate compiler flags.\n"
     ]
    },
    {
     "name": "stdout",
     "output_type": "stream",
     "text": [
      "Found 3795 files belonging to 5 classes.\n",
      "Found 3795 files belonging to 5 classes.\n"
     ]
    }
   ],
   "source": [
    "\n",
    "train = image_dataset_from_directory(\n",
    "    'Group_24/train/',\n",
    "    labels='inferred',\n",
    "    label_mode='int',\n",
    "    batch_size=1,\n",
    "    image_size=(28, 28),\n",
    "    shuffle=True,\n",
    "    seed=42,\n",
    "    color_mode='grayscale',\n",
    "    validation_split=0.0\n",
    ")\n",
    "\n",
    "val = image_dataset_from_directory(\n",
    "    'Group_24/val/',\n",
    "    labels='inferred',\n",
    "    label_mode='int',\n",
    "    batch_size=1,\n",
    "    image_size=(28, 28),\n",
    "    shuffle=True,\n",
    "    seed=42,\n",
    "    color_mode='grayscale',\n",
    "    validation_split=0.0\n",
    ")\n",
    "\n",
    "test = image_dataset_from_directory(\n",
    "    'Group_24/test/',\n",
    "    labels='inferred',\n",
    "    label_mode='int',\n",
    "    batch_size=1,\n",
    "    image_size=(28, 28),\n",
    "    shuffle=True,\n",
    "    seed=42,\n",
    "    color_mode='grayscale',\n",
    "    validation_split=0.0\n",
    ")\n",
    "\n",
    "def normalize(image,label):\n",
    "    image = tf.cast(image/255. ,tf.float32)\n",
    "    return image, label\n",
    "\n",
    "train = train.map(normalize)\n",
    "val = val.map(normalize)\n",
    "test = test.map(normalize)"
   ]
  },
  {
   "attachments": {},
   "cell_type": "markdown",
   "metadata": {},
   "source": [
    "##### Flattening"
   ]
  },
  {
   "attachments": {},
   "cell_type": "markdown",
   "metadata": {},
   "source": [
    "Preparing training tensors"
   ]
  },
  {
   "cell_type": "code",
   "execution_count": 3,
   "metadata": {},
   "outputs": [],
   "source": [
    "# Iterate through the dataset and reshape each image tensor\n",
    "image_tensors = []\n",
    "label_tensors = []\n",
    "for image, labels in train:\n",
    "    num_images = image.shape[0]\n",
    "    image_vectors = tf.reshape(image, [num_images, -1])\n",
    "    image_tensors.append(image_vectors)\n",
    "    label_tensors.append(labels)\n",
    "\n",
    "# Concatenate the image tensors into a single tensor\n",
    "train_vectors = [tf.concat(image_tensors, axis=0), tf.concat(label_tensors, axis=0)]"
   ]
  },
  {
   "attachments": {},
   "cell_type": "markdown",
   "metadata": {},
   "source": [
    "Preparing validation tensors"
   ]
  },
  {
   "cell_type": "code",
   "execution_count": 4,
   "metadata": {},
   "outputs": [],
   "source": [
    "# Iterate through the dataset and reshape each image tensor\n",
    "image_tensors = []\n",
    "label_tensors = []\n",
    "for image, labels in val:\n",
    "    num_images = image.shape[0]\n",
    "    image_vectors = tf.reshape(image, [num_images, -1])\n",
    "    image_tensors.append(image_vectors)\n",
    "    label_tensors.append(labels)\n",
    "\n",
    "# Concatenate the image tensors into a single tensor\n",
    "val_vectors = [tf.concat(image_tensors, axis=0), tf.concat(label_tensors, axis=0)]"
   ]
  },
  {
   "attachments": {},
   "cell_type": "markdown",
   "metadata": {},
   "source": [
    "Preparing testing tensors"
   ]
  },
  {
   "cell_type": "code",
   "execution_count": 5,
   "metadata": {},
   "outputs": [],
   "source": [
    "# Iterate through the dataset and reshape each image tensor\n",
    "image_tensors = []\n",
    "label_tensors = []\n",
    "for image, labels in test:\n",
    "    num_images = image.shape[0]\n",
    "    image_vectors = tf.reshape(image, [num_images, -1])\n",
    "    image_tensors.append(image_vectors)\n",
    "    label_tensors.append(labels)\n",
    "\n",
    "# Concatenate the image tensors into a single tensor\n",
    "test_vectors = [tf.concat(image_tensors, axis=0), tf.concat(label_tensors, axis=0)]"
   ]
  },
  {
   "attachments": {},
   "cell_type": "markdown",
   "metadata": {},
   "source": [
    "#### 1 Hidden layer autoencoder"
   ]
  },
  {
   "cell_type": "code",
   "execution_count": 6,
   "metadata": {},
   "outputs": [
    {
     "name": "stdout",
     "output_type": "stream",
     "text": [
      "Training 1 Hidden Layer autoencoder with different number of neurons in bottleneck layer\n",
      "1 Hidden Layer : 32 neurons\n",
      "epochs: 400, mse: 0.021301347762346268\n",
      "\n",
      "1 Hidden Layer : 64 neurons\n",
      "epochs: 303, mse: 0.0164023507386446\n",
      "\n",
      "1 Hidden Layer : 128 neurons\n",
      "epochs: 218, mse: 0.015397363342344761\n",
      "\n",
      "1 Hidden Layer : 256 neurons\n",
      "epochs: 192, mse: 0.01572316884994507\n",
      "\n"
     ]
    }
   ],
   "source": [
    "initializer = initializers.RandomNormal(mean=0.0, stddev=0.05, seed=42)\n",
    "\n",
    "model_history = dict()\n",
    "\n",
    "print('Training 1 Hidden Layer autoencoder with different number of neurons in bottleneck layer')\n",
    "for num_neurons in [32, 64, 128, 256]:\n",
    "    print(f'1 Hidden Layer : {num_neurons} neurons')\n",
    "    # define model\n",
    "    model = Sequential([\n",
    "        layers.Dense(784, activation=\"relu\", input_shape=(784,)),\n",
    "        layers.Dense(num_neurons, activation=\"sigmoid\", name=\"hidden\", \n",
    "                        kernel_initializer=initializer, bias_initializer=initializers.Zeros()),\n",
    "        layers.Dense(784, activation=\"relu\", name=\"output\", \n",
    "                        kernel_initializer=initializer, bias_initializer=initializers.Zeros()),\n",
    "    ])\n",
    "    \n",
    "    # compile model\n",
    "    loss = tf.keras.losses.MeanSquaredError()\n",
    "    adam_optimizer = Adam(learning_rate=0.001, beta_1=0.9, beta_2=0.999, epsilon=1e-8)\n",
    "    model.compile(optimizer=adam_optimizer, loss=loss, metrics=['mse'])\n",
    "    \n",
    "    # callbacks\n",
    "    my_callbacks = [\n",
    "        EarlyStopping(monitor='val_loss', min_delta=1e-4, patience=5),\n",
    "        TensorBoard(log_dir=f'./logdir/Q2/1_hidden_layer_{num_neurons}_neurons/')\n",
    "    ]\n",
    "\n",
    "    model_fit = model.fit(train_vectors[0].numpy(),train_vectors[0].numpy(), batch_size=len(train_vectors[0]), epochs=10000, verbose=0, callbacks=my_callbacks, \n",
    "                            validation_split=0.0, validation_data=(val_vectors[0].numpy(), val_vectors[0].numpy()), shuffle=True, validation_batch_size=None)\n",
    "    \n",
    "    model_history[f'1_hidden_layer_{num_neurons}_neurons'] = model_fit.history['mse']\n",
    "    \n",
    "    hist_metric = 'mse'\n",
    "    print(f'epochs: {len(model_fit.history[hist_metric])}, mse: {model_fit.history[hist_metric][-1]}\\n')\n",
    "    model.save(f'models/Q2/1_hidden_layer_{num_neurons}_neurons.tf')\n",
    "\n"
   ]
  },
  {
   "attachments": {},
   "cell_type": "markdown",
   "metadata": {},
   "source": [
    "##### Displaying reconstructed image for training data"
   ]
  },
  {
   "cell_type": "code",
   "execution_count": 7,
   "metadata": {},
   "outputs": [
    {
     "data": {
      "text/plain": [
       "<matplotlib.image.AxesImage at 0x7f0429e82fe0>"
      ]
     },
     "execution_count": 7,
     "metadata": {},
     "output_type": "execute_result"
    },
    {
     "data": {
      "image/png": "[encoded data removed]",
      "text/plain": [
       "<Figure size 640x480 with 1 Axes>"
      ]
     },
     "metadata": {},
     "output_type": "display_data"
    }
   ],
   "source": [
    "plt.imshow(train_vectors[0].numpy()[0].reshape(28,28))"
   ]
  },
  {
   "cell_type": "code",
   "execution_count": 8,
   "metadata": {},
   "outputs": [
    {
     "name": "stdout",
     "output_type": "stream",
     "text": [
      "1_hidden_layer_128_neurons.tf\n",
      "1/1 [==============================] - 0s 191ms/step\n",
      "1_hidden_layer_256_neurons.tf\n",
      "1/1 [==============================] - 0s 65ms/step\n",
      "1_hidden_layer_32_neurons.tf\n",
      "1/1 [==============================] - 0s 62ms/step\n",
      "1_hidden_layer_64_neurons.tf\n",
      "1/1 [==============================] - 0s 60ms/step\n"
     ]
    },
    {
     "data": {
      "image/png": "[encoded data removed]",
      "text/plain": [
       "<Figure size 640x480 with 4 Axes>"
      ]
     },
     "metadata": {},
     "output_type": "display_data"
    }
   ],
   "source": [
    "fig, ax = plt.subplots(nrows=2, ncols=2)\n",
    "ct = 0\n",
    "for model in os.listdir(\"./models/Q2\"):\n",
    "    # models = os.listdir('./models/Q1')\n",
    "    model_path = os.path.join('./models/Q2', model)\n",
    "    if(model[0]!='1') : break\n",
    "    print(model)\n",
    "    trained_model = tf.keras.models.load_model(model_path)\n",
    "    predictions = trained_model.predict(train_vectors[0].numpy()[0].reshape(1,784))\n",
    "    ax[int(ct/2)][int(ct%2)].imshow(predictions.reshape(28,28))\n",
    "    ct += 1"
   ]
  },
  {
   "attachments": {},
   "cell_type": "markdown",
   "metadata": {},
   "source": [
    "##### Displaying reconstructed images for validation data"
   ]
  },
  {
   "cell_type": "code",
   "execution_count": 9,
   "metadata": {},
   "outputs": [
    {
     "data": {
      "text/plain": [
       "<matplotlib.image.AxesImage at 0x7f0438456f80>"
      ]
     },
     "execution_count": 9,
     "metadata": {},
     "output_type": "execute_result"
    },
    {
     "data": {
      "image/png": "[encoded data removed]",
      "text/plain": [
       "<Figure size 640x480 with 1 Axes>"
      ]
     },
     "metadata": {},
     "output_type": "display_data"
    }
   ],
   "source": [
    "plt.imshow(val_vectors[0].numpy()[0].reshape(28,28))"
   ]
  },
  {
   "cell_type": "code",
   "execution_count": 10,
   "metadata": {},
   "outputs": [
    {
     "name": "stdout",
     "output_type": "stream",
     "text": [
      "1_hidden_layer_128_neurons.tf\n",
      "1/1 [==============================] - 0s 59ms/step\n",
      "1_hidden_layer_256_neurons.tf\n",
      "1/1 [==============================] - 0s 53ms/step\n",
      "1_hidden_layer_32_neurons.tf\n",
      "1/1 [==============================] - 0s 51ms/step\n",
      "1_hidden_layer_64_neurons.tf\n",
      "1/1 [==============================] - 0s 63ms/step\n"
     ]
    },
    {
     "data": {
      "image/png": "[encoded data removed]",
      "text/plain": [
       "<Figure size 640x480 with 4 Axes>"
      ]
     },
     "metadata": {},
     "output_type": "display_data"
    }
   ],
   "source": [
    "fig, ax = plt.subplots(nrows=2, ncols=2)\n",
    "ct = 0\n",
    "for model in os.listdir(\"./models/Q2\"):\n",
    "    # models = os.listdir('./models/Q1')\n",
    "    model_path = os.path.join('./models/Q2', model)\n",
    "    if(model[0]!='1') : break\n",
    "    print(model)\n",
    "    trained_model = tf.keras.models.load_model(model_path)\n",
    "    predictions = trained_model.predict(val_vectors[0].numpy()[0].reshape(1,784))\n",
    "    ax[int(ct/2)][int(ct%2)].imshow(predictions.reshape(28,28))\n",
    "    ct += 1"
   ]
  },
  {
   "attachments": {},
   "cell_type": "markdown",
   "metadata": {},
   "source": [
    "##### Displaying reconstructed images for testing data"
   ]
  },
  {
   "cell_type": "code",
   "execution_count": 11,
   "metadata": {},
   "outputs": [
    {
     "data": {
      "text/plain": [
       "<matplotlib.image.AxesImage at 0x7f045ae8c850>"
      ]
     },
     "execution_count": 11,
     "metadata": {},
     "output_type": "execute_result"
    },
    {
     "data": {
      "image/png": "[encoded data removed]",
      "text/plain": [
       "<Figure size 640x480 with 1 Axes>"
      ]
     },
     "metadata": {},
     "output_type": "display_data"
    }
   ],
   "source": [
    "plt.imshow(test_vectors[0].numpy()[0].reshape(28,28))"
   ]
  },
  {
   "cell_type": "code",
   "execution_count": 12,
   "metadata": {},
   "outputs": [
    {
     "name": "stdout",
     "output_type": "stream",
     "text": [
      "1_hidden_layer_128_neurons.tf\n",
      "1/1 [==============================] - 0s 58ms/step\n",
      "1_hidden_layer_256_neurons.tf\n",
      "1/1 [==============================] - 0s 53ms/step\n",
      "1_hidden_layer_32_neurons.tf\n",
      "1/1 [==============================] - 0s 49ms/step\n",
      "1_hidden_layer_64_neurons.tf\n",
      "1/1 [==============================] - 0s 56ms/step\n"
     ]
    },
    {
     "data": {
      "image/png": "[encoded data removed]",
      "text/plain": [
       "<Figure size 640x480 with 4 Axes>"
      ]
     },
     "metadata": {},
     "output_type": "display_data"
    }
   ],
   "source": [
    "fig, ax = plt.subplots(nrows=2, ncols=2)\n",
    "ct = 0\n",
    "for model in os.listdir(\"./models/Q2\"):\n",
    "    # models = os.listdir('./models/Q1')\n",
    "    model_path = os.path.join('./models/Q2', model)\n",
    "    if(model[0]!='1') : break\n",
    "    print(model)\n",
    "    trained_model = tf.keras.models.load_model(model_path)\n",
    "    predictions = trained_model.predict(test_vectors[0].numpy()[0].reshape(1,784))\n",
    "    ax[int(ct/2)][int(ct%2)].imshow(predictions.reshape(28,28))\n",
    "    ct += 1"
   ]
  },
  {
   "attachments": {},
   "cell_type": "markdown",
   "metadata": {},
   "source": [
    "#### 3 Hidden layer autoencoder"
   ]
  },
  {
   "cell_type": "code",
   "execution_count": 13,
   "metadata": {},
   "outputs": [
    {
     "name": "stdout",
     "output_type": "stream",
     "text": [
      "Training 3 Hidden Layer autoencoder with different number of neurons in bottleneck layer\n",
      "1 Hidden Layer : 32 neurons\n"
     ]
    },
    {
     "ename": "KeyboardInterrupt",
     "evalue": "",
     "output_type": "error",
     "traceback": [
      "\u001b[0;31m---------------------------------------------------------------------------\u001b[0m",
      "\u001b[0;31mKeyboardInterrupt\u001b[0m                         Traceback (most recent call last)",
      "Cell \u001b[0;32mIn[13], line 32\u001b[0m\n\u001b[1;32m     26\u001b[0m \u001b[39m# callbacks\u001b[39;00m\n\u001b[1;32m     27\u001b[0m my_callbacks \u001b[39m=\u001b[39m [\n\u001b[1;32m     28\u001b[0m     EarlyStopping(monitor\u001b[39m=\u001b[39m\u001b[39m'\u001b[39m\u001b[39mval_loss\u001b[39m\u001b[39m'\u001b[39m, min_delta\u001b[39m=\u001b[39m\u001b[39m1e-4\u001b[39m, patience\u001b[39m=\u001b[39m\u001b[39m5\u001b[39m),\n\u001b[1;32m     29\u001b[0m     TensorBoard(log_dir\u001b[39m=\u001b[39m\u001b[39mf\u001b[39m\u001b[39m'\u001b[39m\u001b[39m./logdir/Q2/3_hidden_layer_\u001b[39m\u001b[39m{\u001b[39;00mnum_neurons\u001b[39m}\u001b[39;00m\u001b[39m_neurons/\u001b[39m\u001b[39m'\u001b[39m)\n\u001b[1;32m     30\u001b[0m ]\n\u001b[0;32m---> 32\u001b[0m model_fit \u001b[39m=\u001b[39m model\u001b[39m.\u001b[39;49mfit(train_vectors[\u001b[39m0\u001b[39;49m]\u001b[39m.\u001b[39;49mnumpy(),train_vectors[\u001b[39m0\u001b[39;49m]\u001b[39m.\u001b[39;49mnumpy(), batch_size\u001b[39m=\u001b[39;49m\u001b[39mlen\u001b[39;49m(train_vectors[\u001b[39m0\u001b[39;49m]), epochs\u001b[39m=\u001b[39;49m\u001b[39m10000\u001b[39;49m, verbose\u001b[39m=\u001b[39;49m\u001b[39m0\u001b[39;49m, callbacks\u001b[39m=\u001b[39;49mmy_callbacks, \n\u001b[1;32m     33\u001b[0m                         validation_split\u001b[39m=\u001b[39;49m\u001b[39m0.0\u001b[39;49m, validation_data\u001b[39m=\u001b[39;49m(val_vectors[\u001b[39m0\u001b[39;49m]\u001b[39m.\u001b[39;49mnumpy(), val_vectors[\u001b[39m0\u001b[39;49m]\u001b[39m.\u001b[39;49mnumpy()), shuffle\u001b[39m=\u001b[39;49m\u001b[39mTrue\u001b[39;49;00m, validation_batch_size\u001b[39m=\u001b[39;49m\u001b[39mNone\u001b[39;49;00m)\n\u001b[1;32m     35\u001b[0m model_history[\u001b[39mf\u001b[39m\u001b[39m'\u001b[39m\u001b[39m3_hidden_layer_\u001b[39m\u001b[39m{\u001b[39;00mnum_neurons\u001b[39m}\u001b[39;00m\u001b[39m_neurons\u001b[39m\u001b[39m'\u001b[39m] \u001b[39m=\u001b[39m model_fit\u001b[39m.\u001b[39mhistory[\u001b[39m'\u001b[39m\u001b[39mmse\u001b[39m\u001b[39m'\u001b[39m]\n\u001b[1;32m     37\u001b[0m hist_metric \u001b[39m=\u001b[39m \u001b[39m'\u001b[39m\u001b[39mmse\u001b[39m\u001b[39m'\u001b[39m\n",
      "File \u001b[0;32m~/.local/lib/python3.10/site-packages/keras/utils/traceback_utils.py:65\u001b[0m, in \u001b[0;36mfilter_traceback.<locals>.error_handler\u001b[0;34m(*args, **kwargs)\u001b[0m\n\u001b[1;32m     63\u001b[0m filtered_tb \u001b[39m=\u001b[39m \u001b[39mNone\u001b[39;00m\n\u001b[1;32m     64\u001b[0m \u001b[39mtry\u001b[39;00m:\n\u001b[0;32m---> 65\u001b[0m     \u001b[39mreturn\u001b[39;00m fn(\u001b[39m*\u001b[39;49margs, \u001b[39m*\u001b[39;49m\u001b[39m*\u001b[39;49mkwargs)\n\u001b[1;32m     66\u001b[0m \u001b[39mexcept\u001b[39;00m \u001b[39mException\u001b[39;00m \u001b[39mas\u001b[39;00m e:\n\u001b[1;32m     67\u001b[0m     filtered_tb \u001b[39m=\u001b[39m _process_traceback_frames(e\u001b[39m.\u001b[39m__traceback__)\n",
      "File \u001b[0;32m~/.local/lib/python3.10/site-packages/keras/engine/training.py:1694\u001b[0m, in \u001b[0;36mModel.fit\u001b[0;34m(self, x, y, batch_size, epochs, verbose, callbacks, validation_split, validation_data, shuffle, class_weight, sample_weight, initial_epoch, steps_per_epoch, validation_steps, validation_batch_size, validation_freq, max_queue_size, workers, use_multiprocessing)\u001b[0m\n\u001b[1;32m   1679\u001b[0m \u001b[39mif\u001b[39;00m \u001b[39mgetattr\u001b[39m(\u001b[39mself\u001b[39m, \u001b[39m\"\u001b[39m\u001b[39m_eval_data_handler\u001b[39m\u001b[39m\"\u001b[39m, \u001b[39mNone\u001b[39;00m) \u001b[39mis\u001b[39;00m \u001b[39mNone\u001b[39;00m:\n\u001b[1;32m   1680\u001b[0m     \u001b[39mself\u001b[39m\u001b[39m.\u001b[39m_eval_data_handler \u001b[39m=\u001b[39m data_adapter\u001b[39m.\u001b[39mget_data_handler(\n\u001b[1;32m   1681\u001b[0m         x\u001b[39m=\u001b[39mval_x,\n\u001b[1;32m   1682\u001b[0m         y\u001b[39m=\u001b[39mval_y,\n\u001b[0;32m   (...)\u001b[0m\n\u001b[1;32m   1692\u001b[0m         steps_per_execution\u001b[39m=\u001b[39m\u001b[39mself\u001b[39m\u001b[39m.\u001b[39m_steps_per_execution,\n\u001b[1;32m   1693\u001b[0m     )\n\u001b[0;32m-> 1694\u001b[0m val_logs \u001b[39m=\u001b[39m \u001b[39mself\u001b[39;49m\u001b[39m.\u001b[39;49mevaluate(\n\u001b[1;32m   1695\u001b[0m     x\u001b[39m=\u001b[39;49mval_x,\n\u001b[1;32m   1696\u001b[0m     y\u001b[39m=\u001b[39;49mval_y,\n\u001b[1;32m   1697\u001b[0m     sample_weight\u001b[39m=\u001b[39;49mval_sample_weight,\n\u001b[1;32m   1698\u001b[0m     batch_size\u001b[39m=\u001b[39;49mvalidation_batch_size \u001b[39mor\u001b[39;49;00m batch_size,\n\u001b[1;32m   1699\u001b[0m     steps\u001b[39m=\u001b[39;49mvalidation_steps,\n\u001b[1;32m   1700\u001b[0m     callbacks\u001b[39m=\u001b[39;49mcallbacks,\n\u001b[1;32m   1701\u001b[0m     max_queue_size\u001b[39m=\u001b[39;49mmax_queue_size,\n\u001b[1;32m   1702\u001b[0m     workers\u001b[39m=\u001b[39;49mworkers,\n\u001b[1;32m   1703\u001b[0m     use_multiprocessing\u001b[39m=\u001b[39;49muse_multiprocessing,\n\u001b[1;32m   1704\u001b[0m     return_dict\u001b[39m=\u001b[39;49m\u001b[39mTrue\u001b[39;49;00m,\n\u001b[1;32m   1705\u001b[0m     _use_cached_eval_dataset\u001b[39m=\u001b[39;49m\u001b[39mTrue\u001b[39;49;00m,\n\u001b[1;32m   1706\u001b[0m )\n\u001b[1;32m   1707\u001b[0m val_logs \u001b[39m=\u001b[39m {\n\u001b[1;32m   1708\u001b[0m     \u001b[39m\"\u001b[39m\u001b[39mval_\u001b[39m\u001b[39m\"\u001b[39m \u001b[39m+\u001b[39m name: val \u001b[39mfor\u001b[39;00m name, val \u001b[39min\u001b[39;00m val_logs\u001b[39m.\u001b[39mitems()\n\u001b[1;32m   1709\u001b[0m }\n\u001b[1;32m   1710\u001b[0m epoch_logs\u001b[39m.\u001b[39mupdate(val_logs)\n",
      "File \u001b[0;32m~/.local/lib/python3.10/site-packages/keras/utils/traceback_utils.py:65\u001b[0m, in \u001b[0;36mfilter_traceback.<locals>.error_handler\u001b[0;34m(*args, **kwargs)\u001b[0m\n\u001b[1;32m     63\u001b[0m filtered_tb \u001b[39m=\u001b[39m \u001b[39mNone\u001b[39;00m\n\u001b[1;32m     64\u001b[0m \u001b[39mtry\u001b[39;00m:\n\u001b[0;32m---> 65\u001b[0m     \u001b[39mreturn\u001b[39;00m fn(\u001b[39m*\u001b[39;49margs, \u001b[39m*\u001b[39;49m\u001b[39m*\u001b[39;49mkwargs)\n\u001b[1;32m     66\u001b[0m \u001b[39mexcept\u001b[39;00m \u001b[39mException\u001b[39;00m \u001b[39mas\u001b[39;00m e:\n\u001b[1;32m     67\u001b[0m     filtered_tb \u001b[39m=\u001b[39m _process_traceback_frames(e\u001b[39m.\u001b[39m__traceback__)\n",
      "\u001b[0;31mKeyboardInterrupt\u001b[0m: "
     ]
    }
   ],
   "source": [
    "initializer = initializers.RandomNormal(mean=0.0, stddev=0.05, seed=42)\n",
    "\n",
    "model_history = dict()\n",
    "\n",
    "print('Training 3 Hidden Layer autoencoder with different number of neurons in bottleneck layer')\n",
    "for num_neurons in [32, 64, 128, 256]:\n",
    "    print(f'1 Hidden Layer : {num_neurons} neurons')\n",
    "    # define model\n",
    "    model = Sequential([\n",
    "        layers.Dense(784, activation=\"relu\", input_shape=(784,)),\n",
    "        layers.Dense(400, activation=\"sigmoid\", name=\"hidden1\", \n",
    "                        kernel_initializer=initializer, bias_initializer=initializers.Zeros()),\n",
    "        layers.Dense(num_neurons, activation=\"sigmoid\", name=\"bottleneck\", \n",
    "                        kernel_initializer=initializer, bias_initializer=initializers.Zeros()),\n",
    "        layers.Dense(400, activation=\"sigmoid\", name=\"hidden3\", \n",
    "                        kernel_initializer=initializer, bias_initializer=initializers.Zeros()),\n",
    "        layers.Dense(784, activation=\"relu\", name=\"output\", \n",
    "                        kernel_initializer=initializer, bias_initializer=initializers.Zeros()),\n",
    "    ])\n",
    "    \n",
    "    # compile model\n",
    "    loss = tf.keras.losses.MeanSquaredError()\n",
    "    adam_optimizer = Adam(learning_rate=0.001, beta_1=0.9, beta_2=0.999, epsilon=1e-8)\n",
    "    model.compile(optimizer=adam_optimizer, loss=loss, metrics=['mse'])\n",
    "    \n",
    "    # callbacks\n",
    "    my_callbacks = [\n",
    "        EarlyStopping(monitor='val_loss', min_delta=1e-4, patience=5),\n",
    "        TensorBoard(log_dir=f'./logdir/Q2/3_hidden_layer_{num_neurons}_neurons/')\n",
    "    ]\n",
    "\n",
    "    model_fit = model.fit(train_vectors[0].numpy(),train_vectors[0].numpy(), batch_size=len(train_vectors[0]), epochs=10000, verbose=0, callbacks=my_callbacks, \n",
    "                            validation_split=0.0, validation_data=(val_vectors[0].numpy(), val_vectors[0].numpy()), shuffle=True, validation_batch_size=None)\n",
    "    \n",
    "    model_history[f'3_hidden_layer_{num_neurons}_neurons'] = model_fit.history['mse']\n",
    "    \n",
    "    hist_metric = 'mse'\n",
    "    print(f'epochs: {len(model_fit.history[hist_metric])}, mse: {model_fit.history[hist_metric][-1]}\\n')\n",
    "    model.save(f'models/Q2/3_hidden_layer_{num_neurons}_neurons.tf')\n",
    "\n"
   ]
  },
  {
   "attachments": {},
   "cell_type": "markdown",
   "metadata": {},
   "source": [
    "##### Displaying reconstructed image for training data"
   ]
  },
  {
   "cell_type": "code",
   "execution_count": null,
   "metadata": {},
   "outputs": [],
   "source": [
    "plt.imshow(train_vectors[0].numpy()[0].reshape(28,28))\n",
    "fig, ax = plt.subplots(nrows=2, ncols=2)\n",
    "ct = 0\n",
    "for model in os.listdir(\"./models/Q2\"):\n",
    "    # models = os.listdir('./models/Q1')\n",
    "    model_path = os.path.join('./models/Q2', model)\n",
    "    if(model[0]!='3') : break\n",
    "    print(model)\n",
    "    trained_model = tf.keras.models.load_model(model_path)\n",
    "    predictions = trained_model.predict(train_vectors[0].numpy()[0].reshape(1,784))\n",
    "    ax[int(ct/2)][int(ct%2)].imshow(predictions.reshape(28,28))\n",
    "    ct += 1"
   ]
  },
  {
   "attachments": {},
   "cell_type": "markdown",
   "metadata": {},
   "source": [
    "##### Displaying reconstructed image for validation data"
   ]
  },
  {
   "cell_type": "code",
   "execution_count": null,
   "metadata": {},
   "outputs": [],
   "source": [
    "plt.imshow(val_vectors[0].numpy()[0].reshape(28,28))\n",
    "fig, ax = plt.subplots(nrows=2, ncols=2)\n",
    "ct = 0\n",
    "for model in os.listdir(\"./models/Q2\"):\n",
    "    # models = os.listdir('./models/Q1')\n",
    "    model_path = os.path.join('./models/Q2', model)\n",
    "    if(model[0]!='3') : break\n",
    "    print(model)\n",
    "    trained_model = tf.keras.models.load_model(model_path)\n",
    "    predictions = trained_model.predict(val_vectors[0].numpy()[0].reshape(1,784))\n",
    "    ax[int(ct/2)][int(ct%2)].imshow(predictions.reshape(28,28))\n",
    "    ct += 1"
   ]
  },
  {
   "attachments": {},
   "cell_type": "markdown",
   "metadata": {},
   "source": [
    "##### Displaying reconstructed image for testing data"
   ]
  },
  {
   "cell_type": "code",
   "execution_count": null,
   "metadata": {},
   "outputs": [],
   "source": [
    "plt.imshow(test_vectors[0].numpy()[0].reshape(28,28))\n",
    "fig, ax = plt.subplots(nrows=2, ncols=2)\n",
    "ct = 0\n",
    "for model in os.listdir(\"./models/Q2\"):\n",
    "    # models = os.listdir('./models/Q1')\n",
    "    model_path = os.path.join('./models/Q2', model)\n",
    "    if(model[0]!='3') : break\n",
    "    print(model)\n",
    "    trained_model = tf.keras.models.load_model(model_path)\n",
    "    predictions = trained_model.predict(test_vectors[0].numpy()[0].reshape(1,784))\n",
    "    ax[int(ct/2)][int(ct%2)].imshow(predictions.reshape(28,28))\n",
    "    ct += 1"
   ]
  }
 ],
 "metadata": {
  "kernelspec": {
   "display_name": "Python 3",
   "language": "python",
   "name": "python3"
  },
  "language_info": {
   "codemirror_mode": {
    "name": "ipython",
    "version": 3
   },
   "file_extension": ".py",
   "mimetype": "text/x-python",
   "name": "python",
   "nbconvert_exporter": "python",
   "pygments_lexer": "ipython3",
   "version": "3.10.6"
  },
  "orig_nbformat": 4,
  "vscode": {
   "interpreter": {
    "hash": "916dbcbb3f70747c44a77c7bcd40155683ae19c65e1c03b4aa3499c5328201f1"
   }
  }
 },
 "nbformat": 4,
 "nbformat_minor": 2
}
