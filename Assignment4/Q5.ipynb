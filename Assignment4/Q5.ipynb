{
 "cells": [
  {
   "cell_type": "code",
   "execution_count": 40,
   "metadata": {},
   "outputs": [],
   "source": [
    "import numpy as np\n",
    "import pandas as pd\n",
    "import matplotlib.pyplot as plt\n",
    "import cv2\n",
    "import tensorflow as tf\n",
    "from tensorflow import keras\n",
    "from keras import layers, Sequential\n",
    "from keras.models import Model\n",
    "from keras.layers import Input, Dense\n",
    "from tensorflow.keras.optimizers import Adam, SGD, Adagrad, RMSprop\n",
    "from keras.callbacks import EarlyStopping, ModelCheckpoint, TensorBoard\n",
    "from keras import initializers\n",
    "import os\n",
    "from tensorflow.keras.preprocessing import image_dataset_from_directory\n",
    "tf.compat.v1.logging.set_verbosity(tf.compat.v1.logging.ERROR)\n",
    "import matplotlib.pyplot as plt"
   ]
  },
  {
   "attachments": {},
   "cell_type": "markdown",
   "metadata": {},
   "source": [
    "#### Reading the data, normalizing and flattening it"
   ]
  },
  {
   "attachments": {},
   "cell_type": "markdown",
   "metadata": {},
   "source": [
    "##### Reading and Normalizing"
   ]
  },
  {
   "cell_type": "code",
   "execution_count": 12,
   "metadata": {},
   "outputs": [
    {
     "name": "stdout",
     "output_type": "stream",
     "text": [
      "Found 11385 files belonging to 5 classes.\n",
      "Found 3795 files belonging to 5 classes.\n",
      "Found 3795 files belonging to 5 classes.\n"
     ]
    }
   ],
   "source": [
    "\n",
    "train = image_dataset_from_directory(\n",
    "    'Group_24/train/',\n",
    "    labels='inferred',\n",
    "    label_mode='int',\n",
    "    batch_size=1,\n",
    "    image_size=(28, 28),\n",
    "    shuffle=True,\n",
    "    seed=42,\n",
    "    color_mode='grayscale',\n",
    "    validation_split=0.0\n",
    ")\n",
    "\n",
    "val = image_dataset_from_directory(\n",
    "    'Group_24/val/',\n",
    "    labels='inferred',\n",
    "    label_mode='int',\n",
    "    batch_size=1,\n",
    "    image_size=(28, 28),\n",
    "    shuffle=True,\n",
    "    seed=42,\n",
    "    color_mode='grayscale',\n",
    "    validation_split=0.0\n",
    ")\n",
    "\n",
    "test = image_dataset_from_directory(\n",
    "    'Group_24/test/',\n",
    "    labels='inferred',\n",
    "    label_mode='int',\n",
    "    batch_size=1,\n",
    "    image_size=(28, 28),\n",
    "    shuffle=True,\n",
    "    seed=42,\n",
    "    color_mode='grayscale',\n",
    "    validation_split=0.0\n",
    ")\n",
    "\n",
    "def normalize(image,label):\n",
    "    image = tf.cast(image/255. ,tf.float32)\n",
    "    return image, label\n",
    "\n",
    "train = train.map(normalize)\n",
    "val = val.map(normalize)\n",
    "test = test.map(normalize)"
   ]
  },
  {
   "attachments": {},
   "cell_type": "markdown",
   "metadata": {},
   "source": [
    "##### Flattening"
   ]
  },
  {
   "attachments": {},
   "cell_type": "markdown",
   "metadata": {},
   "source": [
    "Preparing training tensors"
   ]
  },
  {
   "cell_type": "code",
   "execution_count": 13,
   "metadata": {},
   "outputs": [],
   "source": [
    "# Iterate through the dataset and reshape each image tensor\n",
    "image_tensors = []\n",
    "label_tensors = []\n",
    "for image, labels in train:\n",
    "    num_images = image.shape[0]\n",
    "    image_vectors = tf.reshape(image, [num_images, -1])\n",
    "    image_tensors.append(image_vectors)\n",
    "    label_tensors.append(labels)\n",
    "\n",
    "# Concatenate the image tensors into a single tensor\n",
    "train_vectors = [tf.concat(image_tensors, axis=0), tf.concat(label_tensors, axis=0)]"
   ]
  },
  {
   "attachments": {},
   "cell_type": "markdown",
   "metadata": {},
   "source": [
    "Preparing validation tensors"
   ]
  },
  {
   "cell_type": "code",
   "execution_count": 14,
   "metadata": {},
   "outputs": [],
   "source": [
    "# Iterate through the dataset and reshape each image tensor\n",
    "image_tensors = []\n",
    "label_tensors = []\n",
    "for image, labels in val:\n",
    "    num_images = image.shape[0]\n",
    "    image_vectors = tf.reshape(image, [num_images, -1])\n",
    "    image_tensors.append(image_vectors)\n",
    "    label_tensors.append(labels)\n",
    "\n",
    "# Concatenate the image tensors into a single tensor\n",
    "val_vectors = [tf.concat(image_tensors, axis=0), tf.concat(label_tensors, axis=0)]"
   ]
  },
  {
   "attachments": {},
   "cell_type": "markdown",
   "metadata": {},
   "source": [
    "Preparing testing tensors"
   ]
  },
  {
   "cell_type": "code",
   "execution_count": 15,
   "metadata": {},
   "outputs": [],
   "source": [
    "# Iterate through the dataset and reshape each image tensor\n",
    "image_tensors = []\n",
    "label_tensors = []\n",
    "for image, labels in test:\n",
    "    num_images = image.shape[0]\n",
    "    image_vectors = tf.reshape(image, [num_images, -1])\n",
    "    image_tensors.append(image_vectors)\n",
    "    label_tensors.append(labels)\n",
    "\n",
    "# Concatenate the image tensors into a single tensor\n",
    "test_vectors = [tf.concat(image_tensors, axis=0), tf.concat(label_tensors, axis=0)]"
   ]
  },
  {
   "attachments": {},
   "cell_type": "markdown",
   "metadata": {},
   "source": [
    "#### 20% noise autoencoder"
   ]
  },
  {
   "cell_type": "code",
   "execution_count": null,
   "metadata": {},
   "outputs": [],
   "source": [
    "print(\"Training a 20 percent denoising autoencoder with 32 neurons in bottleneck layer\")\n",
    "inputs = tf.keras.layers.Input(shape=(784,))\n",
    "hidden_layer = tf.keras.layers.Dense(\n",
    "    units=32, activation=tf.nn.sigmoid)(inputs)\n",
    "outputs = tf.keras.layers.Dense(units=784, activation=tf.nn.relu)(hidden_layer)\n",
    "autoencoder = tf.keras.models.Model(inputs=inputs, outputs=outputs)\n",
    "\n",
    "# Define the loss function as the squared difference between the output and original input\n",
    "\n",
    "\n",
    "def custom_loss(y_true, y_pred):\n",
    "    return tf.reduce_mean(tf.square(y_true - y_pred))\n",
    "\n",
    "\n",
    "adam_optimizer = Adam(learning_rate=0.001, beta_1=0.9,\n",
    "                      beta_2=0.999, epsilon=1e-8)\n",
    "autoencoder.compile(optimizer=adam_optimizer, loss=custom_loss,  metrics=['mse'])\n",
    "\n",
    "# Define the noise function that adds noise to the input data\n",
    "\n",
    "\n",
    "def add_noise(inputs, noise_probability):\n",
    "    mask = np.random.binomial(n=1, p=noise_probability, size=inputs.shape)\n",
    "    noise = np.random.normal(size=inputs.shape)\n",
    "    noisy_inputs = inputs * (1 - mask) + noise * mask\n",
    "    return noisy_inputs\n",
    "\n",
    "\n",
    "early_stop = tf.keras.callbacks.EarlyStopping(\n",
    "    monitor='val_loss', min_delta=1e-4,patience=5, verbose=0, restore_best_weights=True)\n",
    "tensorboard_callback = TensorBoard(\n",
    "    log_dir=f'./logdir/Q5/Denoising_20per_32_neurons/')\n",
    "\n",
    "for epoch in range(1000):\n",
    "    # print('Epoch:', epoch+1)\n",
    "    epoch += 1\n",
    "    noisy_train_data = add_noise(train_vectors[0].numpy(), 0.2)\n",
    "    model_fit = autoencoder.fit(noisy_train_data, train_vectors[0].numpy(), batch_size=len(train_vectors[0].numpy()), epochs=1, validation_split=0.0, validation_data=(\n",
    "        val_vectors[0].numpy(), val_vectors[0].numpy()), callbacks=[early_stop, tensorboard_callback], verbose=0, shuffle=True, validation_batch_size=None)\n",
    "\n",
    "hist_metric = 'mse'\n",
    "print(\n",
    "    f'epochs: {len(model_fit.history[hist_metric])}, mse: {model_fit.history[hist_metric][-1]}\\n')\n",
    "autoencoder.save(f'models/Q5/Denoising_20per_32_neurons.tf')\n"
   ]
  },
  {
   "attachments": {},
   "cell_type": "markdown",
   "metadata": {},
   "source": [
    "##### Displaying reconstructed image for training data"
   ]
  },
  {
   "cell_type": "code",
   "execution_count": 24,
   "metadata": {},
   "outputs": [
    {
     "data": {
      "text/plain": [
       "<matplotlib.image.AxesImage at 0x1bbc15a6370>"
      ]
     },
     "execution_count": 24,
     "metadata": {},
     "output_type": "execute_result"
    },
    {
     "data": {
      "image/png": "[encoded data removed]",
      "text/plain": [
       "<Figure size 432x288 with 1 Axes>"
      ]
     },
     "metadata": {
      "needs_background": "light"
     },
     "output_type": "display_data"
    }
   ],
   "source": [
    "plt.imshow(train_vectors[0].numpy()[0].reshape(28,28))"
   ]
  },
  {
   "cell_type": "code",
   "execution_count": 32,
   "metadata": {},
   "outputs": [
    {
     "data": {
      "text/plain": [
       "<matplotlib.image.AxesImage at 0x1bbc39f0e80>"
      ]
     },
     "execution_count": 32,
     "metadata": {},
     "output_type": "execute_result"
    },
    {
     "data": {
      "image/png": "[encoded data removed]",
      "text/plain": [
       "<Figure size 432x288 with 1 Axes>"
      ]
     },
     "metadata": {
      "needs_background": "light"
     },
     "output_type": "display_data"
    }
   ],
   "source": [
    "trained_model = tf.keras.models.load_model(\"models\\Q5\\Denoising_20per_32_neurons.tf\", custom_objects={'custom_loss': custom_loss})\n",
    "predictions = trained_model.predict(train_vectors[0].numpy()[0].reshape(1,784))\n",
    "plt.imshow(predictions.reshape(28,28))"
   ]
  },
  {
   "attachments": {},
   "cell_type": "markdown",
   "metadata": {},
   "source": [
    "##### Displaying reconstructed images for validation data"
   ]
  },
  {
   "cell_type": "code",
   "execution_count": 33,
   "metadata": {},
   "outputs": [
    {
     "data": {
      "text/plain": [
       "<matplotlib.image.AxesImage at 0x1bb88ab2ee0>"
      ]
     },
     "execution_count": 33,
     "metadata": {},
     "output_type": "execute_result"
    },
    {
     "data": {
      "image/png": "[encoded data removed]",
      "text/plain": [
       "<Figure size 432x288 with 1 Axes>"
      ]
     },
     "metadata": {
      "needs_background": "light"
     },
     "output_type": "display_data"
    }
   ],
   "source": [
    "plt.imshow(val_vectors[0].numpy()[0].reshape(28,28))"
   ]
  },
  {
   "cell_type": "code",
   "execution_count": 34,
   "metadata": {},
   "outputs": [
    {
     "data": {
      "text/plain": [
       "<matplotlib.image.AxesImage at 0x1bb8234ed30>"
      ]
     },
     "execution_count": 34,
     "metadata": {},
     "output_type": "execute_result"
    },
    {
     "data": {
      "image/png": "[encoded data removed]",
      "text/plain": [
       "<Figure size 432x288 with 1 Axes>"
      ]
     },
     "metadata": {
      "needs_background": "light"
     },
     "output_type": "display_data"
    }
   ],
   "source": [
    "trained_model = tf.keras.models.load_model(\"models\\Q5\\Denoising_20per_32_neurons.tf\", custom_objects={'custom_loss': custom_loss})\n",
    "predictions = trained_model.predict(val_vectors[0].numpy()[0].reshape(1,784))\n",
    "plt.imshow(predictions.reshape(28,28))"
   ]
  },
  {
   "attachments": {},
   "cell_type": "markdown",
   "metadata": {},
   "source": [
    "##### Displaying reconstructed images for testing data"
   ]
  },
  {
   "cell_type": "code",
   "execution_count": 35,
   "metadata": {},
   "outputs": [
    {
     "data": {
      "text/plain": [
       "<matplotlib.image.AxesImage at 0x1bb823b34c0>"
      ]
     },
     "execution_count": 35,
     "metadata": {},
     "output_type": "execute_result"
    },
    {
     "data": {
      "image/png": "[encoded data removed]",
      "text/plain": [
       "<Figure size 432x288 with 1 Axes>"
      ]
     },
     "metadata": {
      "needs_background": "light"
     },
     "output_type": "display_data"
    }
   ],
   "source": [
    "plt.imshow(test_vectors[0].numpy()[0].reshape(28,28))"
   ]
  },
  {
   "cell_type": "code",
   "execution_count": 36,
   "metadata": {},
   "outputs": [
    {
     "data": {
      "text/plain": [
       "<matplotlib.image.AxesImage at 0x1bb8271a400>"
      ]
     },
     "execution_count": 36,
     "metadata": {},
     "output_type": "execute_result"
    },
    {
     "data": {
      "image/png": "[encoded data removed]",
      "text/plain": [
       "<Figure size 432x288 with 1 Axes>"
      ]
     },
     "metadata": {
      "needs_background": "light"
     },
     "output_type": "display_data"
    }
   ],
   "source": [
    "trained_model = tf.keras.models.load_model(\"models\\Q5\\Denoising_20per_32_neurons.tf\", custom_objects={'custom_loss': custom_loss})\n",
    "predictions = trained_model.predict(test_vectors[0].numpy()[0].reshape(1,784))\n",
    "plt.imshow(predictions.reshape(28,28))"
   ]
  },
  {
   "attachments": {},
   "cell_type": "markdown",
   "metadata": {},
   "source": [
    "#### 40% noise autoencoder"
   ]
  },
  {
   "cell_type": "code",
   "execution_count": 41,
   "metadata": {},
   "outputs": [
    {
     "name": "stdout",
     "output_type": "stream",
     "text": [
      "Training a 40 percent denoising autoencoder with 32 neurons in bottleneck layer\n",
      "epochs: 1, mse: 0.033603180199861526\n",
      "\n"
     ]
    }
   ],
   "source": [
    "print(\"Training a 40 percent denoising autoencoder with 32 neurons in bottleneck layer\")\n",
    "inputs = tf.keras.layers.Input(shape=(784,))\n",
    "hidden_layer = tf.keras.layers.Dense(\n",
    "    units=32, activation=tf.nn.sigmoid)(inputs)\n",
    "outputs = tf.keras.layers.Dense(units=784, activation=tf.nn.relu)(hidden_layer)\n",
    "autoencoder = tf.keras.models.Model(inputs=inputs, outputs=outputs)\n",
    "\n",
    "# Define the loss function as the squared difference between the output and original input\n",
    "\n",
    "\n",
    "def custom_loss(y_true, y_pred):\n",
    "    return tf.reduce_mean(tf.square(y_true - y_pred))\n",
    "\n",
    "\n",
    "adam_optimizer = Adam(learning_rate=0.001, beta_1=0.9,\n",
    "                      beta_2=0.999, epsilon=1e-8)\n",
    "autoencoder.compile(optimizer=adam_optimizer, loss=custom_loss,  metrics=['mse'])\n",
    "\n",
    "# Define the noise function that adds noise to the input data\n",
    "\n",
    "\n",
    "def add_noise(inputs, noise_probability):\n",
    "    mask = np.random.binomial(n=1, p=noise_probability, size=inputs.shape)\n",
    "    noise = np.random.normal(size=inputs.shape)\n",
    "    noisy_inputs = inputs * (1 - mask) + noise * mask\n",
    "    return noisy_inputs\n",
    "\n",
    "\n",
    "early_stop = tf.keras.callbacks.EarlyStopping(\n",
    "    monitor='val_loss', min_delta=1e-4,patience=5, verbose=0, restore_best_weights=True)\n",
    "tensorboard_callback = TensorBoard(\n",
    "    log_dir=f'./logdir/Q5/Denoising_40per_32_neurons/')\n",
    "\n",
    "for epoch in range(1000):\n",
    "    # print('Epoch:', epoch+1)\n",
    "    epoch += 1\n",
    "    noisy_train_data = add_noise(train_vectors[0].numpy(), 0.4)\n",
    "    model_fit = autoencoder.fit(noisy_train_data, train_vectors[0].numpy(), batch_size=len(train_vectors[0].numpy()), epochs=1, validation_split=0.0, validation_data=(\n",
    "        val_vectors[0].numpy(), val_vectors[0].numpy()), callbacks=[early_stop, tensorboard_callback], verbose=0, shuffle=True, validation_batch_size=None)\n",
    "\n",
    "hist_metric = 'mse'\n",
    "print(\n",
    "    f'epochs: {len(model_fit.history[hist_metric])}, mse: {model_fit.history[hist_metric][-1]}\\n')\n",
    "autoencoder.save(f'models/Q5/Denoising_40per_32_neurons.tf')\n"
   ]
  },
  {
   "cell_type": "markdown",
   "metadata": {},
   "source": [
    "##### Displaying reconstructed image for training data"
   ]
  },
  {
   "cell_type": "code",
   "execution_count": null,
   "metadata": {},
   "outputs": [
    {
     "data": {
      "text/plain": [
       "<matplotlib.image.AxesImage at 0x1bbc15a6370>"
      ]
     },
     "metadata": {},
     "output_type": "display_data"
    },
    {
     "data": {
      "image/png": "[encoded data removed]",
      "text/plain": [
       "<Figure size 432x288 with 1 Axes>"
      ]
     },
     "metadata": {},
     "output_type": "display_data"
    }
   ],
   "source": [
    "plt.imshow(train_vectors[0].numpy()[0].reshape(28,28))"
   ]
  },
  {
   "cell_type": "code",
   "execution_count": null,
   "metadata": {},
   "outputs": [
    {
     "data": {
      "text/plain": [
       "<matplotlib.image.AxesImage at 0x1bbc39f0e80>"
      ]
     },
     "metadata": {},
     "output_type": "display_data"
    },
    {
     "data": {
      "image/png": "[encoded data removed]",
      "text/plain": [
       "<Figure size 432x288 with 1 Axes>"
      ]
     },
     "metadata": {},
     "output_type": "display_data"
    }
   ],
   "source": [
    "trained_model = tf.keras.models.load_model(\"models\\Q5\\Denoising_40per_32_neurons.tf\", custom_objects={'custom_loss': custom_loss})\n",
    "predictions = trained_model.predict(train_vectors[0].numpy()[0].reshape(1,784))\n",
    "plt.imshow(predictions.reshape(28,28))"
   ]
  },
  {
   "cell_type": "markdown",
   "metadata": {},
   "source": [
    "##### Displaying reconstructed images for validation data"
   ]
  },
  {
   "cell_type": "code",
   "execution_count": null,
   "metadata": {},
   "outputs": [
    {
     "data": {
      "text/plain": [
       "<matplotlib.image.AxesImage at 0x1bb88ab2ee0>"
      ]
     },
     "metadata": {},
     "output_type": "display_data"
    },
    {
     "data": {
      "image/png": "[encoded data removed]",
      "text/plain": [
       "<Figure size 432x288 with 1 Axes>"
      ]
     },
     "metadata": {},
     "output_type": "display_data"
    }
   ],
   "source": [
    "plt.imshow(val_vectors[0].numpy()[0].reshape(28,28))"
   ]
  },
  {
   "cell_type": "code",
   "execution_count": null,
   "metadata": {},
   "outputs": [
    {
     "data": {
      "text/plain": [
       "<matplotlib.image.AxesImage at 0x1bb8234ed30>"
      ]
     },
     "metadata": {},
     "output_type": "display_data"
    },
    {
     "data": {
      "image/png": "[encoded data removed]",
      "text/plain": [
       "<Figure size 432x288 with 1 Axes>"
      ]
     },
     "metadata": {},
     "output_type": "display_data"
    }
   ],
   "source": [
    "trained_model = tf.keras.models.load_model(\"models\\Q5\\Denoising_40per_32_neurons.tf\", custom_objects={'custom_loss': custom_loss})\n",
    "predictions = trained_model.predict(val_vectors[0].numpy()[0].reshape(1,784))\n",
    "plt.imshow(predictions.reshape(28,28))"
   ]
  },
  {
   "cell_type": "markdown",
   "metadata": {},
   "source": [
    "##### Displaying reconstructed images for testing data"
   ]
  },
  {
   "cell_type": "code",
   "execution_count": null,
   "metadata": {},
   "outputs": [
    {
     "data": {
      "text/plain": [
       "<matplotlib.image.AxesImage at 0x1bb823b34c0>"
      ]
     },
     "metadata": {},
     "output_type": "display_data"
    },
    {
     "data": {
      "image/png": "[encoded data removed]",
      "text/plain": [
       "<Figure size 432x288 with 1 Axes>"
      ]
     },
     "metadata": {},
     "output_type": "display_data"
    }
   ],
   "source": [
    "plt.imshow(test_vectors[0].numpy()[0].reshape(28,28))"
   ]
  },
  {
   "cell_type": "code",
   "execution_count": null,
   "metadata": {},
   "outputs": [
    {
     "data": {
      "text/plain": [
       "<matplotlib.image.AxesImage at 0x1bb8271a400>"
      ]
     },
     "metadata": {},
     "output_type": "display_data"
    },
    {
     "data": {
      "image/png": "[encoded data removed]",
      "text/plain": [
       "<Figure size 432x288 with 1 Axes>"
      ]
     },
     "metadata": {},
     "output_type": "display_data"
    }
   ],
   "source": [
    "trained_model = tf.keras.models.load_model(\"models\\Q5\\Denoising_40per_32_neurons.tf\", custom_objects={'custom_loss': custom_loss})\n",
    "predictions = trained_model.predict(test_vectors[0].numpy()[0].reshape(1,784))\n",
    "plt.imshow(predictions.reshape(28,28))"
   ]
  },
  {
   "attachments": {},
   "cell_type": "markdown",
   "metadata": {},
   "source": [
    "#### Making a classifier with the reduced representation"
   ]
  },
  {
   "cell_type": "code",
   "execution_count": 37,
   "metadata": {},
   "outputs": [],
   "source": [
    "def get_reduced_representation(noise, vec):\n",
    "    models = os.listdir('./models/Q5')\n",
    "    model_path = str\n",
    "    for model in models:\n",
    "        if( (str(noise)+\"per\") in model) : model_path = model\n",
    "    loaded_model = tf.keras.models.load_model(os.path.join('./models/Q5', model_path), custom_objects={'custom_loss': custom_loss})\n",
    "    hidden_layer_model = tf.keras.models.Model(inputs=loaded_model.input, outputs=loaded_model.layers[1].output)\n",
    "    hidden_output = hidden_layer_model.predict(vec[0].numpy().reshape(len(vec[0]),784))\n",
    "    return hidden_output"
   ]
  },
  {
   "attachments": {},
   "cell_type": "markdown",
   "metadata": {},
   "source": [
    "##### 20 percent denoised reduced representation classification model"
   ]
  },
  {
   "cell_type": "code",
   "execution_count": 38,
   "metadata": {},
   "outputs": [
    {
     "name": "stdout",
     "output_type": "stream",
     "text": [
      "Training models with different architectures\n",
      "20 percent noise-96-64-32...\n",
      "epochs: 1149, acc: 0.9953447580337524\n",
      "\n",
      "20 percent noise-64-96-128...\n",
      "epochs: 816, acc: 0.9874396324157715\n",
      "\n",
      "20 percent noise-128-96-64...\n",
      "epochs: 926, acc: 0.991567850112915\n",
      "\n",
      "20 percent noise-256-128-96...\n",
      "epochs: 750, acc: 0.990338146686554\n",
      "\n"
     ]
    }
   ],
   "source": [
    "model_arch = [\n",
    "    [96, 64, 32],\n",
    "    [64, 96, 128],\n",
    "    [128, 96, 64],\n",
    "    [256, 128, 96]\n",
    "]\n",
    "initializer = initializers.RandomNormal(mean=0.0, stddev=0.05, seed=42)\n",
    "\n",
    "k=5 # no. of classes\n",
    "model_history = dict()\n",
    "\n",
    "# train different achitectures and optimizers\n",
    "print('Training models with different architectures')\n",
    "reduced_rep_train = get_reduced_representation(20, train_vectors)\n",
    "reduced_rep_val = get_reduced_representation(20, val_vectors)\n",
    "for layer_dims in model_arch:\n",
    "    print(f'20 percent noise-{layer_dims[0]}-{layer_dims[1]}-{layer_dims[2]}...')\n",
    "    # define model\n",
    "    model = Sequential([\n",
    "        layers.Dense(32, activation=\"relu\", input_shape=(32,)),\n",
    "        # keras.Input(input_shape=(reduced_dimension,)),\n",
    "        layers.Dense(layer_dims[0], activation=\"sigmoid\", name=\"layer1\", \n",
    "                        kernel_initializer=initializer, bias_initializer=initializers.Zeros()),\n",
    "        layers.Dense(layer_dims[1], activation=\"sigmoid\", name=\"layer2\", \n",
    "                        kernel_initializer=initializer, bias_initializer=initializers.Zeros()),\n",
    "        layers.Dense(layer_dims[2], activation=\"sigmoid\", name=\"layer3\", \n",
    "                        kernel_initializer=initializer, bias_initializer=initializers.Zeros()),\n",
    "        # layers.Dense(layer_dims[3], activation=\"sigmoid\", name=\"layer4\", \n",
    "        #              kernel_initializer=initializer, bias_initializer=initializers.Zeros()),\n",
    "        layers.Dense(k, activation=\"softmax\", name=\"output\", \n",
    "                        kernel_initializer=initializer, bias_initializer=initializers.Zeros()),\n",
    "    ])\n",
    "    \n",
    "    # compile model\n",
    "    adam_optimizer = Adam(learning_rate=0.001, beta_1=0.9, beta_2=0.999, epsilon=1e-8)\n",
    "    model.compile(optimizer=adam_optimizer, loss='sparse_categorical_crossentropy', metrics=['accuracy'])\n",
    "    \n",
    "    # callbacks\n",
    "    my_callbacks = [\n",
    "        EarlyStopping(monitor='val_loss', min_delta=1e-7, patience=10),\n",
    "        TensorBoard(log_dir=f'./logdir/Q5/classifier/20per-32-{layer_dims[0]}-{layer_dims[1]}-{layer_dims[2]}/')\n",
    "    ]\n",
    "    model_fit = model.fit(reduced_rep_train, train_vectors[1].numpy(), batch_size=len(train_vectors[0]), epochs=10000, verbose=0, callbacks=my_callbacks, \n",
    "                            validation_split=0.0, validation_data=(reduced_rep_val, val_vectors[1].numpy()), shuffle=True, validation_batch_size=None)\n",
    "    \n",
    "    hist_metric = 'accuracy'\n",
    "    print(f'epochs: {len(model_fit.history[hist_metric])}, acc: {model_fit.history[hist_metric][-1]}\\n')\n",
    "    model.save(f'models/Q5/classifier/20per-32-{layer_dims[0]}-{layer_dims[1]}-{layer_dims[2]}.tf')\n",
    "\n"
   ]
  },
  {
   "attachments": {},
   "cell_type": "markdown",
   "metadata": {},
   "source": [
    "##### 40 percent denoised reduced representation classification model"
   ]
  },
  {
   "cell_type": "code",
   "execution_count": 42,
   "metadata": {},
   "outputs": [
    {
     "name": "stdout",
     "output_type": "stream",
     "text": [
      "Training models with different architectures\n",
      "20 percent noise-96-64-32...\n",
      "epochs: 1461, acc: 0.9892841577529907\n",
      "\n",
      "20 percent noise-64-96-128...\n",
      "epochs: 1091, acc: 0.9886692762374878\n",
      "\n",
      "20 percent noise-128-96-64...\n",
      "epochs: 914, acc: 0.9862977862358093\n",
      "\n",
      "20 percent noise-256-128-96...\n",
      "epochs: 796, acc: 0.9897233247756958\n",
      "\n"
     ]
    }
   ],
   "source": [
    "model_arch = [\n",
    "    [96, 64, 32],\n",
    "    [64, 96, 128],\n",
    "    [128, 96, 64],\n",
    "    [256, 128, 96]\n",
    "]\n",
    "initializer = initializers.RandomNormal(mean=0.0, stddev=0.05, seed=42)\n",
    "\n",
    "k=5 # no. of classes\n",
    "model_history = dict()\n",
    "\n",
    "# train different achitectures and optimizers\n",
    "print('Training models with different architectures')\n",
    "reduced_rep_train = get_reduced_representation(40, train_vectors)\n",
    "reduced_rep_val = get_reduced_representation(40, val_vectors)\n",
    "for layer_dims in model_arch:\n",
    "    print(f'20 percent noise-{layer_dims[0]}-{layer_dims[1]}-{layer_dims[2]}...')\n",
    "    # define model\n",
    "    model = Sequential([\n",
    "        layers.Dense(32, activation=\"relu\", input_shape=(32,)),\n",
    "        # keras.Input(input_shape=(reduced_dimension,)),\n",
    "        layers.Dense(layer_dims[0], activation=\"sigmoid\", name=\"layer1\", \n",
    "                        kernel_initializer=initializer, bias_initializer=initializers.Zeros()),\n",
    "        layers.Dense(layer_dims[1], activation=\"sigmoid\", name=\"layer2\", \n",
    "                        kernel_initializer=initializer, bias_initializer=initializers.Zeros()),\n",
    "        layers.Dense(layer_dims[2], activation=\"sigmoid\", name=\"layer3\", \n",
    "                        kernel_initializer=initializer, bias_initializer=initializers.Zeros()),\n",
    "        # layers.Dense(layer_dims[3], activation=\"sigmoid\", name=\"layer4\", \n",
    "        #              kernel_initializer=initializer, bias_initializer=initializers.Zeros()),\n",
    "        layers.Dense(k, activation=\"softmax\", name=\"output\", \n",
    "                        kernel_initializer=initializer, bias_initializer=initializers.Zeros()),\n",
    "    ])\n",
    "    \n",
    "    # compile model\n",
    "    adam_optimizer = Adam(learning_rate=0.001, beta_1=0.9, beta_2=0.999, epsilon=1e-8)\n",
    "    model.compile(optimizer=adam_optimizer, loss='sparse_categorical_crossentropy', metrics=['accuracy'])\n",
    "    \n",
    "    # callbacks\n",
    "    my_callbacks = [\n",
    "        EarlyStopping(monitor='val_loss', min_delta=1e-7, patience=10),\n",
    "        TensorBoard(log_dir=f'./logdir/Q5/classifier/40per-32-{layer_dims[0]}-{layer_dims[1]}-{layer_dims[2]}/')\n",
    "    ]\n",
    "    model_fit = model.fit(reduced_rep_train, train_vectors[1].numpy(), batch_size=len(train_vectors[0]), epochs=10000, verbose=0, callbacks=my_callbacks, \n",
    "                            validation_split=0.0, validation_data=(reduced_rep_val, val_vectors[1].numpy()), shuffle=True, validation_batch_size=None)\n",
    "    \n",
    "    hist_metric = 'accuracy'\n",
    "    print(f'epochs: {len(model_fit.history[hist_metric])}, acc: {model_fit.history[hist_metric][-1]}\\n')\n",
    "    model.save(f'models/Q5/classifier/40per-32-{layer_dims[0]}-{layer_dims[1]}-{layer_dims[2]}.tf')\n",
    "\n"
   ]
  }
 ],
 "metadata": {
  "kernelspec": {
   "display_name": "Python 3",
   "language": "python",
   "name": "python3"
  },
  "language_info": {
   "codemirror_mode": {
    "name": "ipython",
    "version": 3
   },
   "file_extension": ".py",
   "mimetype": "text/x-python",
   "name": "python",
   "nbconvert_exporter": "python",
   "pygments_lexer": "ipython3",
   "version": "3.9.4"
  },
  "orig_nbformat": 4,
  "vscode": {
   "interpreter": {
    "hash": "ba6adf4a79cae0a88128321b3b152338924ca32c1548ded4a220bdf78f457fcb"
   }
  }
 },
 "nbformat": 4,
 "nbformat_minor": 2
}
