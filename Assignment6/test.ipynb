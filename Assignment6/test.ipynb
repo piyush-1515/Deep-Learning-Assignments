{
 "cells": [
  {
   "cell_type": "code",
   "execution_count": 47,
   "metadata": {},
   "outputs": [],
   "source": [
    "import pandas as pd\n",
    "import numpy as np\n",
    "import os\n",
    "import tensorflow as tf\n",
    "from tensorflow.keras.preprocessing.sequence import pad_sequences\n",
    "import warnings\n",
    "from tensorflow.keras.models import Sequential\n",
    "from tensorflow.keras.layers import Dense, SimpleRNN\n",
    "from tensorflow.keras.utils import to_categorical\n",
    "from keras.optimizers import Adam, SGD, Adagrad, RMSprop\n",
    "from keras.callbacks import EarlyStopping, ModelCheckpoint, TensorBoard, Callback\n",
    "warnings.filterwarnings('ignore', category=DeprecationWarning)"
   ]
  },
  {
   "attachments": {},
   "cell_type": "markdown",
   "metadata": {},
   "source": [
    "#### Preprocessing"
   ]
  },
  {
   "cell_type": "code",
   "execution_count": 40,
   "metadata": {},
   "outputs": [],
   "source": [
    "train, test = [], []\n",
    "z_train, z_test = [], []\n",
    "chars =  ['a', 'bA', 'dA', 'lA', 'tA']\n",
    "\n",
    "def normalize(seq):\n",
    "    min_x, max_x = min(el[0] for el in seq), max(el[0] for el in seq)\n",
    "    min_y, max_y = min(el[1] for el in seq), max(el[1] for el in seq)\n",
    "    for el in seq:\n",
    "        el[0] = (el[0] - min_x)/(max_x-min_x)\n",
    "        el[1] = (el[1] - min_y)/(max_y-min_y)\n",
    "    return seq\n",
    "for ch in chars:\n",
    "    for f in os.listdir(\"Group24/Handwriting_Data/\" + str(ch)+\"/train\"):\n",
    "        with open(\"Group24/Handwriting_Data/\" + str(ch)+\"/train/\" + str(f), 'r') as file:\n",
    "            contents = file.read()\n",
    "            items = contents.split()\n",
    "            seq = []\n",
    "            for i in range(1,len(items),2):\n",
    "                seq.append([float(items[i]),float(items[i+1])])\n",
    "            train.append(normalize(seq))\n",
    "        z_train.append(str(ch))\n",
    "    for f in os.listdir(\"Group24/Handwriting_Data/\" + str(ch)+\"/dev\"):\n",
    "        with open(\"Group24/Handwriting_Data/\" + str(ch)+\"/dev/\" + str(f), 'r') as file:\n",
    "            contents = file.read()\n",
    "            items = contents.split()\n",
    "            seq = []\n",
    "            for i in range(1,len(items),2):\n",
    "                seq.append([float(items[i]),float(items[i+1])])\n",
    "            test.append(normalize(seq))\n",
    "        z_test.append(str(ch))"
   ]
  },
  {
   "cell_type": "code",
   "execution_count": 41,
   "metadata": {},
   "outputs": [],
   "source": [
    "label_map = {'a':0, 'bA':1, 'dA':2, 'lA':3, 'tA':4}\n",
    "z_train_onehot = tf.keras.utils.to_categorical([label_map[x] for x in z_train], 5)\n",
    "z_test_onehot = tf.keras.utils.to_categorical([label_map[x] for x in z_test], 5)"
   ]
  },
  {
   "cell_type": "code",
   "execution_count": 42,
   "metadata": {},
   "outputs": [],
   "source": [
    "max_len = max([max(len(x) for x in train), max(len(x) for x in test)])\n",
    "train_padded = pad_sequences(train, maxlen=max_len, dtype='float32', padding='post')\n",
    "test_padded = pad_sequences(test, maxlen=max_len, dtype='float32', padding='post')"
   ]
  },
  {
   "attachments": {},
   "cell_type": "markdown",
   "metadata": {},
   "source": [
    "Flattening"
   ]
  },
  {
   "cell_type": "code",
   "execution_count": null,
   "metadata": {},
   "outputs": [],
   "source": []
  },
  {
   "attachments": {},
   "cell_type": "markdown",
   "metadata": {},
   "source": [
    "#### Model"
   ]
  },
  {
   "cell_type": "code",
   "execution_count": 53,
   "metadata": {},
   "outputs": [
    {
     "name": "stdout",
     "output_type": "stream",
     "text": [
      "epochs: 20, acc: 0.21929824352264404\n",
      "\n",
      "INFO:tensorflow:Assets written to: models/Q1/test.tf/assets\n"
     ]
    }
   ],
   "source": [
    "model = Sequential()\n",
    "model.add(SimpleRNN(32, input_shape=(max_len, 2)))\n",
    "model.add(Dense(64, activation=\"relu\"))\n",
    "model.add(Dense(5, activation=\"sigmoid\"))\n",
    "loss_fn = tf.keras.losses.CategoricalCrossentropy()\n",
    "\n",
    "adam_optimizer = Adam(learning_rate=0.01, beta_1=0.9, beta_2=0.999, epsilon=1e-8)\n",
    "model.compile(loss=loss_fn, optimizer=adam_optimizer, metrics=['accuracy']) \n",
    "# Train the model\n",
    "my_callbacks = [\n",
    "    EarlyStopping(monitor='loss', min_delta=1e-4, patience=10),\n",
    "    TensorBoard(log_dir=f'./logdir/Q1/test')\n",
    "]\n",
    "model_fit = model.fit(train_padded, z_train_onehot, batch_size=1, epochs=10000, verbose=0, callbacks=my_callbacks, validation_split=0.0, shuffle=True, validation_batch_size=None)\n",
    "\n",
    "hist_metric = 'accuracy'\n",
    "print(f'epochs: {len(model_fit.history[hist_metric])}, acc: {model_fit.history[hist_metric][-1]}\\n')\n",
    "model.save(f'models/Q1/test.tf')\n",
    "# model.fit(train_padded, z_train_onehot, epochs=1000, batch_size=1)\n"
   ]
  }
 ],
 "metadata": {
  "kernelspec": {
   "display_name": "Python 3",
   "language": "python",
   "name": "python3"
  },
  "language_info": {
   "codemirror_mode": {
    "name": "ipython",
    "version": 3
   },
   "file_extension": ".py",
   "mimetype": "text/x-python",
   "name": "python",
   "nbconvert_exporter": "python",
   "pygments_lexer": "ipython3",
   "version": "3.10.6"
  },
  "orig_nbformat": 4,
  "vscode": {
   "interpreter": {
    "hash": "916dbcbb3f70747c44a77c7bcd40155683ae19c65e1c03b4aa3499c5328201f1"
   }
  }
 },
 "nbformat": 4,
 "nbformat_minor": 2
}
